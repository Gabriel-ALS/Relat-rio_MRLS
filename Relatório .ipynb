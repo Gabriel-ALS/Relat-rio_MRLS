{
  "cells": [
    {
      "cell_type": "raw",
      "metadata": {},
      "source": [
        "---\n",
        "title: \"Relatório Estatística 3\"\n",
        "author: \"Gabriel Augusto L. Silva\"\n",
        "format: pdf\n",
        "editor: visual\n",
        "---"
      ],
      "id": "e3de988c"
    },
    {
      "cell_type": "markdown",
      "metadata": {},
      "source": [
        "#### Introdução\n",
        "\n",
        "O objetivo deste relatório é analisar a correlação entre a quantidade de pontos dos dois melhores jogadores da NBB (National Basketball Brazil) de cada time ao longo das temporadas e sua respectiva eficiência em quadra, utilizando de **Regressão Linear Simples (MRLS)**, fixada a covariavel **PTS_TOTAL** (Pontos totais do jogador) e varivavel resposta **EF_TOTAL** (Eficiência total do jogador).\n",
        "\n",
        "**Contexto:** A principal forma de interpretar o quão bom um jogador de basquete desempenha, é por meio de sua eficiência total, pois dentro dela engloba o quanto ele pontou, pegou rebotes, realizou assistencias, defendeu quadra, realizou faltas, errou e todas as outras situações em quadra, a eficiencia leva em consideração toda a participação de um jogador em quadra, seja ela positiva ou não. Neste estudo buscaremos enxergar como a principal estatistica do esporte, a pontuação, é capaz de dizer sobre como um jogador desempenha.\n",
        "\n",
        "### Extras\n",
        "\n",
        "O banco de dados e código podem ser respectivamente acessados por:\n",
        "\n",
        "**Banco de dados:** <https://www.kaggle.com/datasets/gabrielpastorello/novo-basquete-brasil-nbb-stats-all-seasons>\n",
        "\n",
        "**Código:** <https://github.com/Gabriel-ALS/Relatorio_MRLS>\n",
        "\n",
        "### Análise descritiva\n",
        "\n",
        "Apresentamos inicialmente as medidas de resumo das duas variaveis observadas, sendo a variavel resposta a eficiencia do jogador **(EF_TOTAL)** e a covariavel sendo a quantidade de cestas dos jogadores **(PTS_TOTAL)**. Segue abaixo as informações na Tabela 1.\n",
        "\n",
        "\n",
        "```{dados}\n",
        "library(readr)\n",
        "library(dplyr)\n",
        "library(MASS)\n",
        "\n",
        "dados <- read.csv(\"Base_NBB.csv\")\n",
        "\n",
        "\n",
        "top2_jogadores <- dados %>%\n",
        "  group_by(Equipe) %>%\n",
        "  arrange(desc(EF_TOTAL)) %>%\n",
        "  slice(1:2)\n",
        "\n",
        "dados_filtrados <- top2_jogadores[,c(\"PTS_TOTAL\",\"EF_TOTAL\")]\n",
        "\n",
        "cor(dados_filtrados$PTS_TOTAL,dados_filtrados$EF_TOTAL)\n",
        "\n",
        "sumPTS <- c(summary(dados_filtrados$PTS_TOTAL),\n",
        "            var(dados_filtrados$PTS_TOTAL),\n",
        "            sd(dados_filtrados$PTS_TOTAL))\n",
        "\n",
        "sumEF <- c(summary(dados_filtrados$EF_TOTAL),\n",
        "            var(dados_filtrados$EF_TOTAL),\n",
        "           sd(dados_filtrados$EF_TOTAL))\n",
        "sumEF_PTS <- summary(dados_filtrados)\n",
        "\n",
        "\n",
        "```"
      ],
      "id": "250ee05f"
    }
  ],
  "metadata": {
    "kernelspec": {
      "display_name": "Python 3",
      "language": "python",
      "name": "python3"
    }
  },
  "nbformat": 4,
  "nbformat_minor": 5
}